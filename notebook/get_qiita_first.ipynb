{
 "cells": [
  {
   "cell_type": "markdown",
   "id": "c2d56b58-c81e-4c5c-beb1-cc4a25e91fef",
   "metadata": {},
   "source": [
    "ドキュメント\n",
    "https://qiita.com/api/v2/docs\n",
    "\n",
    "ページング(page)の最大数は100,1ページ当たりの件数(per_page)最大数も100"
   ]
  },
  {
   "cell_type": "code",
   "execution_count": null,
   "id": "c424105f-670c-4a08-a39e-79ec82d77694",
   "metadata": {},
   "outputs": [],
   "source": [
    "# FIXME:取得中に記事が追加されるとエラーになる問題\n",
    "# 記事取得→DB格納→一意制約違反となる"
   ]
  },
  {
   "cell_type": "code",
   "execution_count": null,
   "id": "4d1228ab-cfcb-4dae-9700-b29fb05cb82a",
   "metadata": {},
   "outputs": [
    {
     "name": "stdout",
     "output_type": "stream",
     "text": [
      "データベースエラー: duplicate key value violates unique constraint \"learning_resources_url_key\"\n",
      "DETAIL:  Key (url)=(https://qiita.com/ksgiksg/items/191a3e38a1103831d132) already exists.\n"
     ]
    }
   ],
   "source": [
    "import os\n",
    "import requests\n",
    "import asyncpg\n",
    "import asyncio\n",
    "import nest_asyncio\n",
    "from dateutil import parser\n",
    "from datetime import timezone\n",
    "\n",
    "DATABASE_URL = \"postgresql://{}:{}@postgres-service:{}/{}\".format(os.environ['POSTGRES_USER'], os.environ['POSTGRES_PASSWORD'], os.environ['POSTGRES_SERVICE_SERVICE_PORT'], os.environ['POSTGRES_DB'])\n",
    "\n",
    "def fetch_qiita_articles(token, page=1, per_page=100):\n",
    "    \"\"\"Qiitaの記事を取得する\"\"\"\n",
    "    url = f'https://qiita.com/api/v2/items?page={page}&per_page={per_page}'\n",
    "    headers = {'Authorization': f'Bearer {token}'}\n",
    "    response = requests.get(url, headers=headers)\n",
    "    if response.status_code == 200:\n",
    "        return response.json()\n",
    "    else:\n",
    "        return None\n",
    "\n",
    "async def insert_articles(articles):\n",
    "    conn = await asyncpg.connect(DATABASE_URL)\n",
    "    try:\n",
    "        async with conn.transaction():\n",
    "            await conn.executemany(\"INSERT INTO learning_resources (title, url, created_date) VALUES ($1, $2, $3)\",\n",
    "                                   [(article['title'], article['url'], parser.parse(article['created_at']).replace(tzinfo=None)) for article in articles])\n",
    "    except Exception as e:\n",
    "        print(\"データベースエラー:\", e)\n",
    "    finally:\n",
    "        await conn.close()\n",
    "\n",
    "async def insert_articles_rigid(articles):\n",
    "    # いっそunique消すか？→消して取得後にURL重複してるやつの片方削除としたほうがio的にはいいのでは？\n",
    "    # TODO:記事を取得してDBに格納している間に1件でも追加されると一意制約エラーとなる\n",
    "    # 一意制約違反の場合にそのレコードのみ除外されるようにexecutemanyでなくexecuteを使用\n",
    "    # ioが100倍になる。よっぽど厳格にやりたいならこちら。今回は別にいいかな。\n",
    "    \"\"\"記事のリストをデータベースに挿入する\"\"\"\n",
    "    conn = await asyncpg.connect(DATABASE_URL)\n",
    "    for article in articles:\n",
    "        try:\n",
    "            async with conn.transaction():\n",
    "                await conn.execute(\n",
    "                    \"INSERT INTO learning_resources (title, url, created_date) VALUES ($1, $2, $3)\",\n",
    "                    article['title'], article['url'], parser.parse(article['created_at']).replace(tzinfo=None)\n",
    "                )\n",
    "        except Exception as e:\n",
    "            print(f\"データベースエラー: {e} - {article['url']}\")\n",
    "    await conn.close()\n",
    "\n",
    "async def main():\n",
    "    token = os.environ['QIITA_TOKEN']\n",
    "    for i in range(100):\n",
    "        articles = fetch_qiita_articles(token, page=i)\n",
    "        if articles:\n",
    "            await insert_articles(articles)\n",
    "\n",
    "if __name__ == \"__main__\":\n",
    "    # asyncio.run(main())\n",
    "    # notebookでの実行時はnestを許可する\n",
    "    nest_asyncio.apply()\n",
    "    loop = asyncio.get_event_loop()\n",
    "    loop.run_until_complete(main())"
   ]
  }
 ],
 "metadata": {
  "kernelspec": {
   "display_name": "Python 3 (ipykernel)",
   "language": "python",
   "name": "python3"
  },
  "language_info": {
   "codemirror_mode": {
    "name": "ipython",
    "version": 3
   },
   "file_extension": ".py",
   "mimetype": "text/x-python",
   "name": "python",
   "nbconvert_exporter": "python",
   "pygments_lexer": "ipython3",
   "version": "3.10.12"
  }
 },
 "nbformat": 4,
 "nbformat_minor": 5
}
